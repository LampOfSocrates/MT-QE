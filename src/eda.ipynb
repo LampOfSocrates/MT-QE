{
 "cells": [
  {
   "cell_type": "code",
   "execution_count": 1,
   "metadata": {},
   "outputs": [],
   "source": [
    "import pandas as pd"
   ]
  },
  {
   "cell_type": "code",
   "execution_count": 2,
   "metadata": {},
   "outputs": [],
   "source": [
    "#!pip install spacy\n",
    "#!pip install spacy_langdetect\n",
    "#!python -m spacy download en"
   ]
  },
  {
   "cell_type": "markdown",
   "metadata": {},
   "source": [
    "# Load the data , and remove that 1 row where mt is missing "
   ]
  },
  {
   "cell_type": "code",
   "execution_count": 24,
   "metadata": {},
   "outputs": [
    {
     "name": "stdout",
     "output_type": "stream",
     "text": [
      "lp            0\n",
      "src           0\n",
      "mt            1\n",
      "ref           0\n",
      "score         0\n",
      "raw           0\n",
      "annotators    0\n",
      "domain        0\n",
      "dtype: int64\n",
      "(112604, 8)\n",
      "(112603, 8)\n"
     ]
    }
   ],
   "source": [
    "file_path = '../data/2022-da.csv'\n",
    "data = pd.read_csv(file_path)\n",
    "print(data.isna().sum())\n",
    "print(data.shape)\n",
    "data = data.dropna(subset=['src','mt', 'ref'])\n",
    "print(data.shape)\n"
   ]
  },
  {
   "cell_type": "code",
   "execution_count": 4,
   "metadata": {},
   "outputs": [],
   "source": [
    "from eda import display_stats"
   ]
  },
  {
   "cell_type": "code",
   "execution_count": 6,
   "metadata": {
    "scrolled": true
   },
   "outputs": [
    {
     "name": "stdout",
     "output_type": "stream",
     "text": [
      "Unique count of `lp` field: 6\n"
     ]
    },
    {
     "data": {
      "text/html": [
       "<div>\n",
       "<style scoped>\n",
       "    .dataframe tbody tr th:only-of-type {\n",
       "        vertical-align: middle;\n",
       "    }\n",
       "\n",
       "    .dataframe tbody tr th {\n",
       "        vertical-align: top;\n",
       "    }\n",
       "\n",
       "    .dataframe thead th {\n",
       "        text-align: right;\n",
       "    }\n",
       "</style>\n",
       "<table border=\"1\" class=\"dataframe\">\n",
       "  <thead>\n",
       "    <tr style=\"text-align: right;\">\n",
       "      <th></th>\n",
       "      <th>0</th>\n",
       "      <th>1</th>\n",
       "      <th>2</th>\n",
       "      <th>3</th>\n",
       "      <th>4</th>\n",
       "      <th>5</th>\n",
       "    </tr>\n",
       "  </thead>\n",
       "  <tbody>\n",
       "    <tr>\n",
       "      <th>lp</th>\n",
       "      <td>cs-en</td>\n",
       "      <td>de-en</td>\n",
       "      <td>ja-en</td>\n",
       "      <td>ru-en</td>\n",
       "      <td>uk-en</td>\n",
       "      <td>zh-en</td>\n",
       "    </tr>\n",
       "    <tr>\n",
       "      <th>src_length_count</th>\n",
       "      <td>16008</td>\n",
       "      <td>17204</td>\n",
       "      <td>23326</td>\n",
       "      <td>18776</td>\n",
       "      <td>16470</td>\n",
       "      <td>20819</td>\n",
       "    </tr>\n",
       "    <tr>\n",
       "      <th>src_min_length</th>\n",
       "      <td>2</td>\n",
       "      <td>1</td>\n",
       "      <td>1</td>\n",
       "      <td>1</td>\n",
       "      <td>2</td>\n",
       "      <td>1</td>\n",
       "    </tr>\n",
       "    <tr>\n",
       "      <th>src_max_length</th>\n",
       "      <td>71</td>\n",
       "      <td>115</td>\n",
       "      <td>25</td>\n",
       "      <td>58</td>\n",
       "      <td>75</td>\n",
       "      <td>18</td>\n",
       "    </tr>\n",
       "    <tr>\n",
       "      <th>src_avg_length</th>\n",
       "      <td>15.469453</td>\n",
       "      <td>14.631946</td>\n",
       "      <td>1.310255</td>\n",
       "      <td>13.597092</td>\n",
       "      <td>12.176138</td>\n",
       "      <td>1.569192</td>\n",
       "    </tr>\n",
       "    <tr>\n",
       "      <th>mt_min_length</th>\n",
       "      <td>1</td>\n",
       "      <td>1</td>\n",
       "      <td>1</td>\n",
       "      <td>1</td>\n",
       "      <td>2</td>\n",
       "      <td>1</td>\n",
       "    </tr>\n",
       "    <tr>\n",
       "      <th>mt_max_length</th>\n",
       "      <td>105</td>\n",
       "      <td>136</td>\n",
       "      <td>123</td>\n",
       "      <td>78</td>\n",
       "      <td>109</td>\n",
       "      <td>250</td>\n",
       "    </tr>\n",
       "    <tr>\n",
       "      <th>mt_avg_length</th>\n",
       "      <td>18.697526</td>\n",
       "      <td>15.853116</td>\n",
       "      <td>14.03764</td>\n",
       "      <td>16.88448</td>\n",
       "      <td>14.982817</td>\n",
       "      <td>25.122148</td>\n",
       "    </tr>\n",
       "    <tr>\n",
       "      <th>ref_min_length</th>\n",
       "      <td>2</td>\n",
       "      <td>1</td>\n",
       "      <td>1</td>\n",
       "      <td>1</td>\n",
       "      <td>2</td>\n",
       "      <td>1</td>\n",
       "    </tr>\n",
       "    <tr>\n",
       "      <th>ref_max_length</th>\n",
       "      <td>106</td>\n",
       "      <td>133</td>\n",
       "      <td>91</td>\n",
       "      <td>75</td>\n",
       "      <td>96</td>\n",
       "      <td>244</td>\n",
       "    </tr>\n",
       "    <tr>\n",
       "      <th>ref_avg_length</th>\n",
       "      <td>18.741567</td>\n",
       "      <td>16.832888</td>\n",
       "      <td>14.489925</td>\n",
       "      <td>16.654666</td>\n",
       "      <td>15.098421</td>\n",
       "      <td>25.952639</td>\n",
       "    </tr>\n",
       "    <tr>\n",
       "      <th>max_length_max</th>\n",
       "      <td>106</td>\n",
       "      <td>136</td>\n",
       "      <td>123</td>\n",
       "      <td>78</td>\n",
       "      <td>109</td>\n",
       "      <td>250</td>\n",
       "    </tr>\n",
       "    <tr>\n",
       "      <th>avg_annotators</th>\n",
       "      <td>1.0</td>\n",
       "      <td>1.0</td>\n",
       "      <td>1.0</td>\n",
       "      <td>1.0</td>\n",
       "      <td>1.0</td>\n",
       "      <td>1.0</td>\n",
       "    </tr>\n",
       "    <tr>\n",
       "      <th>avg_raw_score</th>\n",
       "      <td>70.066045</td>\n",
       "      <td>67.164642</td>\n",
       "      <td>63.170825</td>\n",
       "      <td>75.144116</td>\n",
       "      <td>71.675395</td>\n",
       "      <td>68.493443</td>\n",
       "    </tr>\n",
       "  </tbody>\n",
       "</table>\n",
       "</div>"
      ],
      "text/plain": [
       "                          0          1          2          3          4  \\\n",
       "lp                    cs-en      de-en      ja-en      ru-en      uk-en   \n",
       "src_length_count      16008      17204      23326      18776      16470   \n",
       "src_min_length            2          1          1          1          2   \n",
       "src_max_length           71        115         25         58         75   \n",
       "src_avg_length    15.469453  14.631946   1.310255  13.597092  12.176138   \n",
       "mt_min_length             1          1          1          1          2   \n",
       "mt_max_length           105        136        123         78        109   \n",
       "mt_avg_length     18.697526  15.853116   14.03764   16.88448  14.982817   \n",
       "ref_min_length            2          1          1          1          2   \n",
       "ref_max_length          106        133         91         75         96   \n",
       "ref_avg_length    18.741567  16.832888  14.489925  16.654666  15.098421   \n",
       "max_length_max          106        136        123         78        109   \n",
       "avg_annotators          1.0        1.0        1.0        1.0        1.0   \n",
       "avg_raw_score     70.066045  67.164642  63.170825  75.144116  71.675395   \n",
       "\n",
       "                          5  \n",
       "lp                    zh-en  \n",
       "src_length_count      20819  \n",
       "src_min_length            1  \n",
       "src_max_length           18  \n",
       "src_avg_length     1.569192  \n",
       "mt_min_length             1  \n",
       "mt_max_length           250  \n",
       "mt_avg_length     25.122148  \n",
       "ref_min_length            1  \n",
       "ref_max_length          244  \n",
       "ref_avg_length    25.952639  \n",
       "max_length_max          250  \n",
       "avg_annotators          1.0  \n",
       "avg_raw_score     68.493443  "
      ]
     },
     "execution_count": 6,
     "metadata": {},
     "output_type": "execute_result"
    }
   ],
   "source": [
    "gdf , data = display_stats(data)\n",
    "gdf.T"
   ]
  },
  {
   "cell_type": "code",
   "execution_count": 7,
   "metadata": {
    "scrolled": true
   },
   "outputs": [
    {
     "data": {
      "text/html": [
       "<div>\n",
       "<style scoped>\n",
       "    .dataframe tbody tr th:only-of-type {\n",
       "        vertical-align: middle;\n",
       "    }\n",
       "\n",
       "    .dataframe tbody tr th {\n",
       "        vertical-align: top;\n",
       "    }\n",
       "\n",
       "    .dataframe thead th {\n",
       "        text-align: right;\n",
       "    }\n",
       "</style>\n",
       "<table border=\"1\" class=\"dataframe\">\n",
       "  <thead>\n",
       "    <tr style=\"text-align: right;\">\n",
       "      <th></th>\n",
       "      <th>lp</th>\n",
       "      <th>src</th>\n",
       "      <th>mt</th>\n",
       "      <th>ref</th>\n",
       "      <th>score</th>\n",
       "      <th>raw</th>\n",
       "      <th>annotators</th>\n",
       "      <th>domain</th>\n",
       "      <th>src_length</th>\n",
       "      <th>mt_length</th>\n",
       "      <th>ref_length</th>\n",
       "      <th>max_length</th>\n",
       "    </tr>\n",
       "  </thead>\n",
       "  <tbody>\n",
       "    <tr>\n",
       "      <th>0</th>\n",
       "      <td>uk-en</td>\n",
       "      <td>Добрий день вибачте будь ласка не мала інтерне...</td>\n",
       "      <td>﻿Good afternoon sorry please did not have the ...</td>\n",
       "      <td>Good afternoon, sorry, there was no Internet c...</td>\n",
       "      <td>-0.457725</td>\n",
       "      <td>63.0</td>\n",
       "      <td>1</td>\n",
       "      <td>other</td>\n",
       "      <td>14</td>\n",
       "      <td>16</td>\n",
       "      <td>16</td>\n",
       "      <td>16</td>\n",
       "    </tr>\n",
       "    <tr>\n",
       "      <th>1</th>\n",
       "      <td>uk-en</td>\n",
       "      <td>Скажіть будь-ласка, точну адресу куди завтра ї...</td>\n",
       "      <td>Please tell me the exact address where to go f...</td>\n",
       "      <td>Please tell me the exact address where I shoul...</td>\n",
       "      <td>-0.869663</td>\n",
       "      <td>41.0</td>\n",
       "      <td>1</td>\n",
       "      <td>other</td>\n",
       "      <td>24</td>\n",
       "      <td>29</td>\n",
       "      <td>29</td>\n",
       "      <td>29</td>\n",
       "    </tr>\n",
       "    <tr>\n",
       "      <th>2</th>\n",
       "      <td>uk-en</td>\n",
       "      <td>Нажаль,я мушу відмовитися від Вашої пропозиції...</td>\n",
       "      <td>Unfortunately, I have to refuse your offer, be...</td>\n",
       "      <td>Unfortunately, I have to decline Your offer, b...</td>\n",
       "      <td>-0.659884</td>\n",
       "      <td>44.0</td>\n",
       "      <td>1</td>\n",
       "      <td>other</td>\n",
       "      <td>16</td>\n",
       "      <td>19</td>\n",
       "      <td>19</td>\n",
       "      <td>19</td>\n",
       "    </tr>\n",
       "    <tr>\n",
       "      <th>3</th>\n",
       "      <td>uk-en</td>\n",
       "      <td>Вибачте,але не можу там відмовитись.</td>\n",
       "      <td>I'm sorry, but I can't say no.</td>\n",
       "      <td>Sorry, but I can’t decline their offer.</td>\n",
       "      <td>0.528864</td>\n",
       "      <td>61.0</td>\n",
       "      <td>1</td>\n",
       "      <td>other</td>\n",
       "      <td>5</td>\n",
       "      <td>7</td>\n",
       "      <td>7</td>\n",
       "      <td>7</td>\n",
       "    </tr>\n",
       "    <tr>\n",
       "      <th>4</th>\n",
       "      <td>uk-en</td>\n",
       "      <td>Мені інколи здається, що через перекладач мої ...</td>\n",
       "      <td>Sometimes it seems to me that through the tran...</td>\n",
       "      <td>Sometimes it seems to me that my thoughts in C...</td>\n",
       "      <td>-0.589957</td>\n",
       "      <td>45.0</td>\n",
       "      <td>1</td>\n",
       "      <td>other</td>\n",
       "      <td>17</td>\n",
       "      <td>21</td>\n",
       "      <td>21</td>\n",
       "      <td>21</td>\n",
       "    </tr>\n",
       "  </tbody>\n",
       "</table>\n",
       "</div>"
      ],
      "text/plain": [
       "      lp                                                src  \\\n",
       "0  uk-en  Добрий день вибачте будь ласка не мала інтерне...   \n",
       "1  uk-en  Скажіть будь-ласка, точну адресу куди завтра ї...   \n",
       "2  uk-en  Нажаль,я мушу відмовитися від Вашої пропозиції...   \n",
       "3  uk-en               Вибачте,але не можу там відмовитись.   \n",
       "4  uk-en  Мені інколи здається, що через перекладач мої ...   \n",
       "\n",
       "                                                  mt  \\\n",
       "0  ﻿Good afternoon sorry please did not have the ...   \n",
       "1  Please tell me the exact address where to go f...   \n",
       "2  Unfortunately, I have to refuse your offer, be...   \n",
       "3                     I'm sorry, but I can't say no.   \n",
       "4  Sometimes it seems to me that through the tran...   \n",
       "\n",
       "                                                 ref     score   raw  \\\n",
       "0  Good afternoon, sorry, there was no Internet c... -0.457725  63.0   \n",
       "1  Please tell me the exact address where I shoul... -0.869663  41.0   \n",
       "2  Unfortunately, I have to decline Your offer, b... -0.659884  44.0   \n",
       "3            Sorry, but I can’t decline their offer.  0.528864  61.0   \n",
       "4  Sometimes it seems to me that my thoughts in C... -0.589957  45.0   \n",
       "\n",
       "   annotators domain  src_length  mt_length  ref_length  max_length  \n",
       "0           1  other          14         16          16          16  \n",
       "1           1  other          24         29          29          29  \n",
       "2           1  other          16         19          19          19  \n",
       "3           1  other           5          7           7           7  \n",
       "4           1  other          17         21          21          21  "
      ]
     },
     "execution_count": 7,
     "metadata": {},
     "output_type": "execute_result"
    }
   ],
   "source": [
    "data.head()"
   ]
  },
  {
   "cell_type": "markdown",
   "metadata": {},
   "source": [
    "## Sample data"
   ]
  },
  {
   "cell_type": "code",
   "execution_count": 8,
   "metadata": {},
   "outputs": [
    {
     "data": {
      "text/plain": [
       "lp                                                        uk-en\n",
       "src           Мені інколи здається, що через перекладач мої ...\n",
       "mt            Sometimes it seems to me that through the tran...\n",
       "ref           Sometimes it seems to me that my thoughts in C...\n",
       "score                                                 -0.589957\n",
       "raw                                                        45.0\n",
       "annotators                                                    1\n",
       "domain                                                    other\n",
       "src_length                                                   17\n",
       "mt_length                                                    21\n",
       "ref_length                                                   21\n",
       "max_length                                                   21\n",
       "Name: 4, dtype: object"
      ]
     },
     "metadata": {},
     "output_type": "display_data"
    }
   ],
   "source": [
    "display(data.iloc[4])"
   ]
  },
  {
   "cell_type": "markdown",
   "metadata": {},
   "source": [
    "## Tokenize and see the typical length of tokenized inputs"
   ]
  },
  {
   "cell_type": "code",
   "execution_count": 9,
   "metadata": {},
   "outputs": [
    {
     "name": "stdout",
     "output_type": "stream",
     "text": [
      "src tokenized\n",
      "{'Добрий': [0, 184411, 312, 2], 'день': [0, 6365, 2], 'вибачте': [0, 1045, 48970, 226, 2], 'будь': [0, 14549, 2], 'ласка': [0, 65732, 2], 'не': [0, 77, 2], 'мала': [0, 21541, 2], 'інтернету': [0, 59820, 105, 2], 'і': [0, 189, 2], 'могла': [0, 39072, 2], 'швидше': [0, 193995, 2], 'надіслати.': [0, 2511, 17573, 76985, 5, 2], 'Дякую': [0, 220519, 2]}\n",
      "mt tokenized\n",
      "{'\\ufeffGood': [18621], 'afternoon': [157109], 'sorry': [59090], 'please': [22936], 'did': [6777], 'not': [959], 'have': [765], 'the': [70], 'internet': [1820], 'and': [136], 'could': [5809], 'send': [25379], 'faster.': [4271, 56, 5], 'Thank': [25689], 'you': [398]}\n"
     ]
    }
   ],
   "source": [
    "from transformers import AutoTokenizer\n",
    "tokenizer = AutoTokenizer.from_pretrained('xlm-roberta-base')\n",
    "\n",
    "print('src tokenized')\n",
    "print({x : tokenizer.encode(x, add_special_tokens=True) for x in data.src.values[0].split()})\n",
    "print('mt tokenized')\n",
    "print({x : tokenizer.encode(x, add_special_tokens=False) for x in data.mt.values[0].split()})"
   ]
  },
  {
   "cell_type": "code",
   "execution_count": null,
   "metadata": {},
   "outputs": [],
   "source": []
  },
  {
   "cell_type": "code",
   "execution_count": 10,
   "metadata": {
    "scrolled": true
   },
   "outputs": [
    {
     "name": "stdout",
     "output_type": "stream",
     "text": [
      "uk-en\n",
      "src: Як розповіли агентству учасники заходу, херсонці встигли провести мітинг до того, як на місце прибули для розгону військові рф з технікою.\n",
      "mt: As told the Agency the participants of the event, Kherson managed to hold a rally before the place arrived to disperse the military of the Russian Federation with equipment.\n",
      "ref: As participants in the event told journalists, Kherson residents held a rally, and then the Russian military arrived at the scene with equipment to disperse them.\n",
      "src_tokens [0, 4910, 238939, 51836, 11312, 171948, 169708, 4, 56510, 800, 6546, 2475, 201966, 546, 55389, 26636, 50028, 255, 2574, 4, 1443, 29, 25903, 440, 119447, 518, 2724, 695, 957, 201665, 6, 155673, 210, 11284, 894, 10572, 5, 2]\n",
      "mt_tokens [0, 1301, 30745, 70, 103310, 70, 56480, 111, 70, 19732, 4, 16362, 56, 1681, 145755, 47, 16401, 10, 143107, 8108, 70, 3687, 174920, 47, 45, 20595, 184, 70, 116338, 111, 70, 102374, 200602, 678, 98154, 5, 2]\n",
      "ref_tokens [0, 1301, 56480, 23, 70, 19732, 30745, 32485, 7, 4, 16362, 56, 1681, 160641, 34658, 10, 143107, 4, 136, 7068, 70, 102374, 116338, 174920, 99, 70, 28302, 678, 98154, 47, 45, 20595, 184, 2856, 5, 2]\n"
     ]
    }
   ],
   "source": [
    "idx = 12\n",
    "print(data.lp.values[idx])\n",
    "print('src:', data.src.values[idx])\n",
    "print('mt:', data.mt.values[idx])\n",
    "print('ref:', data.ref.values[idx])\n",
    "\n",
    "print('src_tokens', tokenizer(data.src.values[idx])['input_ids'])\n",
    "print('mt_tokens', tokenizer(data.mt.values[idx])['input_ids'])\n",
    "print('ref_tokens', tokenizer(data.ref.values[idx])['input_ids'])"
   ]
  },
  {
   "cell_type": "markdown",
   "metadata": {},
   "source": [
    "## Tokenize in batch "
   ]
  },
  {
   "cell_type": "code",
   "execution_count": 13,
   "metadata": {},
   "outputs": [
    {
     "name": "stdout",
     "output_type": "stream",
     "text": [
      "max:  335\n",
      "min:  3\n"
     ]
    },
    {
     "data": {
      "image/png": "[encoded data removed]",
      "text/plain": [
       "<Figure size 2000x800 with 1 Axes>"
      ]
     },
     "metadata": {},
     "output_type": "display_data"
    }
   ],
   "source": [
    "# tokenize the text feature \n",
    "tokenized_feature_raw = tokenizer.batch_encode_plus(\n",
    "                            # Sentences to encode\n",
    "                            data.ref.values.tolist(), \n",
    "                            # Add '[CLS]' and '[SEP]'\n",
    "                            add_special_tokens = True      \n",
    "                   )\n",
    "\n",
    "# collect tokenized sentence length \n",
    "token_sentence_length = [len(x) for x in tokenized_feature_raw['input_ids']]\n",
    "print('max: ', max(token_sentence_length))\n",
    "print('min: ', min(token_sentence_length))\n",
    "# plot the distribution\n",
    "import matplotlib.pyplot as plt\n",
    "plt.figure(figsize=(20, 8))\n",
    "plt.hist(token_sentence_length, bins=range(min(token_sentence_length), max(token_sentence_length) + 2), rwidth=0.9)\n",
    "plt.xlabel('Sequence Length', fontsize=18)\n",
    "plt.ylabel('# of Samples', fontsize=18)\n",
    "plt.xticks(fontsize=14)\n",
    "plt.yticks(fontsize=14)\n",
    "plt.title('Distribution of Sequence Lengths', fontsize=20)\n",
    "\n",
    "plt.show()"
   ]
  },
  {
   "cell_type": "markdown",
   "metadata": {},
   "source": [
    "The maximum tokenized length is 335 . Now since attention is quadratic , we want to train 90% of the time using the smaller sentences. About 90000 of the samples have less than 50 tokens and so we shall do a 2 phase training. Phase 1 , only tick small samples ie with fix length < 50 tokens. Then retrain this model with the remaining 10% of the data . Note in COMET like training we are concatanating tokens and so concatenate src+mt+ref , we shall end up with a 150-200 tokens for each sample.\n",
    "\n",
    "Could there be a better way to merge the embeddings of the 3 tokens. Can they belong to the embedding space?\n"
   ]
  },
  {
   "cell_type": "code",
   "execution_count": 26,
   "metadata": {},
   "outputs": [
    {
     "name": "stdout",
     "output_type": "stream",
     "text": [
      "Number of samples greater than 50 in sequence length: 9756\n"
     ]
    }
   ],
   "source": [
    "\n",
    "threshold = 50\n",
    "num_samples_greater_than_threshold = sum(length > threshold for length in token_sentence_length)\n",
    "print(f'Number of samples greater than {threshold} in sequence length: {num_samples_greater_than_threshold}')"
   ]
  },
  {
   "cell_type": "code",
   "execution_count": 27,
   "metadata": {},
   "outputs": [
    {
     "ename": "AttributeError",
     "evalue": "'DataFrame' object has no attribute 'max_length'",
     "output_type": "error",
     "traceback": [
      "\u001b[0;31m---------------------------------------------------------------------------\u001b[0m",
      "\u001b[0;31mAttributeError\u001b[0m                            Traceback (most recent call last)",
      "\u001b[0;32m/tmp/ipykernel_713305/2813801885.py\u001b[0m in \u001b[0;36m?\u001b[0;34m()\u001b[0m\n\u001b[0;32m----> 1\u001b[0;31m \u001b[0mdata_50\u001b[0m \u001b[0;34m=\u001b[0m \u001b[0mdata\u001b[0m\u001b[0;34m[\u001b[0m\u001b[0mdata\u001b[0m\u001b[0;34m.\u001b[0m\u001b[0mmax_length\u001b[0m \u001b[0;34m<\u001b[0m \u001b[0;36m60\u001b[0m\u001b[0;34m]\u001b[0m\u001b[0;34m\u001b[0m\u001b[0;34m\u001b[0m\u001b[0m\n\u001b[0m\u001b[1;32m      2\u001b[0m \u001b[0mdata_50\u001b[0m\u001b[0;34m.\u001b[0m\u001b[0mshape\u001b[0m\u001b[0;34m\u001b[0m\u001b[0;34m\u001b[0m\u001b[0m\n",
      "\u001b[0;32m~/miniconda3/lib/python3.11/site-packages/pandas/core/generic.py\u001b[0m in \u001b[0;36m?\u001b[0;34m(self, name)\u001b[0m\n\u001b[1;32m   6200\u001b[0m             \u001b[0;32mand\u001b[0m \u001b[0mname\u001b[0m \u001b[0;32mnot\u001b[0m \u001b[0;32min\u001b[0m \u001b[0mself\u001b[0m\u001b[0;34m.\u001b[0m\u001b[0m_accessors\u001b[0m\u001b[0;34m\u001b[0m\u001b[0;34m\u001b[0m\u001b[0m\n\u001b[1;32m   6201\u001b[0m             \u001b[0;32mand\u001b[0m \u001b[0mself\u001b[0m\u001b[0;34m.\u001b[0m\u001b[0m_info_axis\u001b[0m\u001b[0;34m.\u001b[0m\u001b[0m_can_hold_identifiers_and_holds_name\u001b[0m\u001b[0;34m(\u001b[0m\u001b[0mname\u001b[0m\u001b[0;34m)\u001b[0m\u001b[0;34m\u001b[0m\u001b[0;34m\u001b[0m\u001b[0m\n\u001b[1;32m   6202\u001b[0m         ):\n\u001b[1;32m   6203\u001b[0m             \u001b[0;32mreturn\u001b[0m \u001b[0mself\u001b[0m\u001b[0;34m[\u001b[0m\u001b[0mname\u001b[0m\u001b[0;34m]\u001b[0m\u001b[0;34m\u001b[0m\u001b[0;34m\u001b[0m\u001b[0m\n\u001b[0;32m-> 6204\u001b[0;31m         \u001b[0;32mreturn\u001b[0m \u001b[0mobject\u001b[0m\u001b[0;34m.\u001b[0m\u001b[0m__getattribute__\u001b[0m\u001b[0;34m(\u001b[0m\u001b[0mself\u001b[0m\u001b[0;34m,\u001b[0m \u001b[0mname\u001b[0m\u001b[0;34m)\u001b[0m\u001b[0;34m\u001b[0m\u001b[0;34m\u001b[0m\u001b[0m\n\u001b[0m",
      "\u001b[0;31mAttributeError\u001b[0m: 'DataFrame' object has no attribute 'max_length'"
     ]
    }
   ],
   "source": [
    "data_50 = data[data.max_length < 60]\n",
    "data_50.shape"
   ]
  },
  {
   "cell_type": "code",
   "execution_count": null,
   "metadata": {},
   "outputs": [],
   "source": []
  },
  {
   "cell_type": "code",
   "execution_count": null,
   "metadata": {},
   "outputs": [],
   "source": []
  },
  {
   "cell_type": "code",
   "execution_count": null,
   "metadata": {},
   "outputs": [],
   "source": []
  },
  {
   "cell_type": "code",
   "execution_count": null,
   "metadata": {},
   "outputs": [],
   "source": []
  }
 ],
 "metadata": {
  "kernelspec": {
   "display_name": "Python 3 (ipykernel)",
   "language": "python",
   "name": "python3"
  },
  "language_info": {
   "codemirror_mode": {
    "name": "ipython",
    "version": 3
   },
   "file_extension": ".py",
   "mimetype": "text/x-python",
   "name": "python",
   "nbconvert_exporter": "python",
   "pygments_lexer": "ipython3",
   "version": "3.11.5"
  },
  "vscode": {
   "interpreter": {
    "hash": "066a94f12a482e81477bdc81d83d4ae3c2dd92aca2bc20199dd751d259e7c247"
   }
  }
 },
 "nbformat": 4,
 "nbformat_minor": 4
}
